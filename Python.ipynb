{
  "nbformat": 4,
  "nbformat_minor": 0,
  "metadata": {
    "colab": {
      "provenance": [],
      "toc_visible": true
    },
    "kernelspec": {
      "name": "python3",
      "display_name": "Python 3"
    },
    "language_info": {
      "name": "python"
    }
  },
  "cells": [
    {
      "cell_type": "code",
      "source": [
        "name = input(\"Enter your name: \")\n",
        "\n",
        "# Greet the user\n",
        "print(f\"Hello, {name}!\")"
      ],
      "metadata": {
        "colab": {
          "base_uri": "https://localhost:8080/"
        },
        "id": "zHvPv2K34Jvq",
        "outputId": "1dcf9326-2a5c-4dae-d73d-5f3728e59670"
      },
      "execution_count": 1,
      "outputs": [
        {
          "output_type": "stream",
          "name": "stdout",
          "text": [
            "Enter your name: kunwar\n",
            "Hello, kunwar!\n"
          ]
        }
      ]
    }
  ]
}